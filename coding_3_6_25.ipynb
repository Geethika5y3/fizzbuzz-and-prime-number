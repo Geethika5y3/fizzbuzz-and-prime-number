{
  "nbformat": 4,
  "nbformat_minor": 0,
  "metadata": {
    "colab": {
      "provenance": [],
      "authorship_tag": "ABX9TyPWGn4L+KPL789Uw7oF3K7k",
      "include_colab_link": true
    },
    "kernelspec": {
      "name": "python3",
      "display_name": "Python 3"
    },
    "language_info": {
      "name": "python"
    }
  },
  "cells": [
    {
      "cell_type": "markdown",
      "metadata": {
        "id": "view-in-github",
        "colab_type": "text"
      },
      "source": [
        "<a href=\"https://colab.research.google.com/github/Geethika5y3/fizzbuzz-and-prime-number/blob/main/coding_3_6_25.ipynb\" target=\"_parent\"><img src=\"https://colab.research.google.com/assets/colab-badge.svg\" alt=\"Open In Colab\"/></a>"
      ]
    },
    {
      "cell_type": "code",
      "source": [
        "def fizzBuzz(n):\n",
        "    res = []\n",
        "\n",
        "    for i in range(1, n + 1):\n",
        "        if i % 3 == 0 and i % 5 == 0:\n",
        "            res.append(\"FizzBuzz\")\n",
        "        elif i % 3 == 0:\n",
        "            res.append(\"Fizz\")\n",
        "        elif i % 5 == 0:\n",
        "            res.append(\"Buzz\")\n",
        "        else:\n",
        "            res.append(str(i))\n",
        "\n",
        "    return res\n",
        "if __name__ == \"__main__\":\n",
        "    n = 15\n",
        "    res = fizzBuzz(n)\n",
        "    print(' '.join(res))"
      ],
      "metadata": {
        "colab": {
          "base_uri": "https://localhost:8080/"
        },
        "id": "kjZtdULuXCqi",
        "outputId": "7383b050-9b33-455b-e2e7-57cccd46f4f8"
      },
      "execution_count": null,
      "outputs": [
        {
          "output_type": "stream",
          "name": "stdout",
          "text": [
            "1 2 Fizz 4 Buzz Fizz 7 8 Fizz Buzz 11 Fizz 13 14 FizzBuzz\n"
          ]
        }
      ]
    },
    {
      "cell_type": "code",
      "source": [
        "def fizzBuzz_ifelse(n):\n",
        "    res = []\n",
        "    for i in range(1, n + 1):\n",
        "        if i % 15 == 0:\n",
        "            res.append(\"FizzBuzz\")\n",
        "        elif i % 3 == 0:\n",
        "            res.append(\"Fizz\")\n",
        "        elif i % 5 == 0:\n",
        "            res.append(\"Buzz\")\n",
        "        else:\n",
        "            res.append(str(i))\n",
        "    return res\n",
        "\n",
        "n = 15\n",
        "result = fizzBuzz_ifelse(n)\n",
        "print(' '.join(result))"
      ],
      "metadata": {
        "colab": {
          "base_uri": "https://localhost:8080/"
        },
        "id": "jB3PKh75f4wp",
        "outputId": "631a7e56-b92a-4c3d-87d0-0f5fcffadbfd"
      },
      "execution_count": null,
      "outputs": [
        {
          "output_type": "stream",
          "name": "stdout",
          "text": [
            "1 2 Fizz 4 Buzz Fizz 7 8 Fizz Buzz 11 Fizz 13 14 FizzBuzz\n"
          ]
        }
      ]
    },
    {
      "cell_type": "code",
      "source": [
        "def fizzBuzz_concat(n):\n",
        "    res = []\n",
        "    for i in range(1, n + 1):\n",
        "        output = \"\"\n",
        "        if i % 3 == 0:\n",
        "            output += \"Fizz\"\n",
        "        if i % 5 == 0:\n",
        "            output += \"Buzz\"\n",
        "        if output == \"\":\n",
        "            output = str(i)\n",
        "        res.append(output)\n",
        "    return res\n",
        "\n",
        "n = 15\n",
        "result = fizzBuzz_concat(n)\n",
        "print(' '.join(result))"
      ],
      "metadata": {
        "colab": {
          "base_uri": "https://localhost:8080/"
        },
        "id": "hHkm-L5zg39W",
        "outputId": "8d6f2168-21b0-49f2-b63c-dcabe8cc3dee"
      },
      "execution_count": null,
      "outputs": [
        {
          "output_type": "stream",
          "name": "stdout",
          "text": [
            "1 2 Fizz 4 Buzz Fizz 7 8 Fizz Buzz 11 Fizz 13 14 FizzBuzz\n"
          ]
        }
      ]
    },
    {
      "cell_type": "code",
      "source": [
        "def fizzBuzz_modify_list(n):\n",
        "    res = [str(i) for i in range(1, n + 1)]\n",
        "    for i in range(n):\n",
        "        if (i + 1) % 3 == 0 and (i + 1) % 5 == 0:\n",
        "            res[i] = \"FizzBuzz\"\n",
        "        elif (i + 1) % 3 == 0:\n",
        "            res[i] = \"Fizz\"\n",
        "        elif (i + 1) % 5 == 0:\n",
        "            res[i] = \"Buzz\"\n",
        "    return res\n",
        "\n",
        "n = 15\n",
        "result = fizzBuzz_modify_list(n)\n",
        "print(' '.join(result))"
      ],
      "metadata": {
        "colab": {
          "base_uri": "https://localhost:8080/"
        },
        "id": "oKeOxuq-g-J4",
        "outputId": "ccca727f-b2ce-4fa6-b3ce-52bc83451396"
      },
      "execution_count": null,
      "outputs": [
        {
          "output_type": "stream",
          "name": "stdout",
          "text": [
            "1 2 Fizz 4 Buzz Fizz 7 8 Fizz Buzz 11 Fizz 13 14 FizzBuzz\n"
          ]
        }
      ]
    },
    {
      "cell_type": "code",
      "source": [
        "def fizzBuzz_dictionary(n):\n",
        "    res = []\n",
        "    fizzbuzz_map = {3: \"Fizz\", 5: \"Buzz\"}\n",
        "    for i in range(1, n + 1):\n",
        "        output = \"\"\n",
        "        for key in fizzbuzz_map:\n",
        "            if i % key == 0:\n",
        "                output += fizzbuzz_map[key]\n",
        "        if output == \"\":\n",
        "            output = str(i)\n",
        "        res.append(output)\n",
        "    return res\n",
        "\n",
        "n = 15\n",
        "result = fizzBuzz_dictionary(n)\n",
        "print(' '.join(result))"
      ],
      "metadata": {
        "colab": {
          "base_uri": "https://localhost:8080/"
        },
        "id": "8cegZ5AWhELf",
        "outputId": "6b1f80b2-8236-4729-a3b7-a57a3fe32df5"
      },
      "execution_count": null,
      "outputs": [
        {
          "output_type": "stream",
          "name": "stdout",
          "text": [
            "1 2 Fizz 4 Buzz Fizz 7 8 Fizz Buzz 11 Fizz 13 14 FizzBuzz\n"
          ]
        }
      ]
    },
    {
      "cell_type": "code",
      "source": [
        "def is_prime_trial_division(n):\n",
        "    if n < 2:\n",
        "        return False\n",
        "    for i in range(2, int(n**0.5) + 1):\n",
        "        if n % i == 0:\n",
        "            return False\n",
        "    return True\n",
        "\n",
        "def find_primes_trial_division(a, b):\n",
        "    primes = []\n",
        "    for num in range(a, b + 1):\n",
        "        if is_prime_trial_division(num):\n",
        "            primes.append(num)\n",
        "    return primes\n",
        "start_range = 10\n",
        "end_range = 50\n",
        "prime_numbers = find_primes_trial_division(start_range, end_range)\n",
        "print(f\"Prime numbers between {start_range} and {end_range}: {prime_numbers}\")"
      ],
      "metadata": {
        "colab": {
          "base_uri": "https://localhost:8080/"
        },
        "id": "ehlWkQfLiTnJ",
        "outputId": "06f47b04-7be3-4cf6-f5df-c7f3ec92d971"
      },
      "execution_count": null,
      "outputs": [
        {
          "output_type": "stream",
          "name": "stdout",
          "text": [
            "Prime numbers between 10 and 50: [11, 13, 17, 19, 23, 29, 31, 37, 41, 43, 47]\n"
          ]
        }
      ]
    },
    {
      "cell_type": "code",
      "source": [
        "def find_primes_sieve(a, b):\n",
        "    if b < 2:\n",
        "        return []\n",
        "\n",
        "    sieve = [True] * (b + 1)\n",
        "    sieve[0] = sieve[1] = False  # 0 and 1 are not prime\n",
        "\n",
        "    for i in range(2, int(b**0.5) + 1):\n",
        "        if sieve[i]:\n",
        "            for multiple in range(i * i, b + 1, i):\n",
        "                sieve[multiple] = False\n",
        "\n",
        "    primes = [num for num in range(max(2, a), b + 1) if sieve[num]]\n",
        "    return primes\n",
        "start_range = 10\n",
        "end_range = 50\n",
        "prime_numbers = find_primes_sieve(start_range, end_range)\n",
        "print(f\"Prime numbers between {start_range} and {end_range}: {prime_numbers}\")"
      ],
      "metadata": {
        "colab": {
          "base_uri": "https://localhost:8080/"
        },
        "id": "EkX98RoGibO0",
        "outputId": "013d9805-a295-4004-9a18-6a62d8bcf656"
      },
      "execution_count": null,
      "outputs": [
        {
          "output_type": "stream",
          "name": "stdout",
          "text": [
            "Prime numbers between 10 and 50: [11, 13, 17, 19, 23, 29, 31, 37, 41, 43, 47]\n"
          ]
        }
      ]
    },
    {
      "cell_type": "code",
      "source": [
        "def find_primes_optimized_sieve(a, b):\n",
        "    if b < 2:\n",
        "        return []\n",
        "    primes = []\n",
        "    if a <= 2 <= b:\n",
        "        primes.append(2)\n",
        "    start = max(3, a)\n",
        "    if start % 2 == 0:\n",
        "        start += 1\n",
        "    if start > b:\n",
        "        return primes\n",
        "    size = (b - start) // 2 + 1\n",
        "    sieve = [True] * size\n",
        "    limit = int(b**0.5)\n",
        "    if limit % 2 == 0:\n",
        "        limit -= 1\n",
        "    for i in range(0, (limit - start) // 2 + 1, 1) if limit >= start else []:\n",
        "        if sieve[i]:\n",
        "            num = start + 2 * i\n",
        "            for multiple_idx in range((num * num - start) // 2, size, num):\n",
        "                sieve[multiple_idx] = False\n",
        "    for i in range(size):\n",
        "        if sieve[i]:\n",
        "            primes.append(start + 2 * i)\n",
        "    return primes\n",
        "start_range = 10\n",
        "end_range = 50\n",
        "prime_numbers = find_primes_optimized_sieve(start_range, end_range)\n",
        "print(f\"Prime numbers between {start_range} and {end_range}: {prime_numbers}\")"
      ],
      "metadata": {
        "colab": {
          "base_uri": "https://localhost:8080/"
        },
        "id": "Nkvj1kK6ipHu",
        "outputId": "128ba0de-7e56-43a3-d390-52e03e9b2748"
      },
      "execution_count": null,
      "outputs": [
        {
          "output_type": "stream",
          "name": "stdout",
          "text": [
            "Prime numbers between 10 and 50: [11, 13, 15, 17, 19, 21, 23, 25, 27, 29, 31, 33, 35, 37, 39, 41, 43, 45, 47, 49]\n"
          ]
        }
      ]
    },
    {
      "cell_type": "code",
      "source": [
        "def find_primes_segmented_sieve(a, b):\n",
        "    if b < 2:\n",
        "        return []\n",
        "    limit = int(b**0.5)\n",
        "    base_primes = find_primes_sieve(2, limit)\n",
        "    primes = []\n",
        "    segment_size = 100000\n",
        "    for low in range(a, b + 1, segment_size):\n",
        "        high = min(low + segment_size - 1, b)\n",
        "        if high < 2:\n",
        "            continue\n",
        "        segment_low = max(2, low)\n",
        "        segment_sieve = [True] * (high - segment_low + 1)\n",
        "        for prime in base_primes:\n",
        "            start_multiple = max(prime * prime, (segment_low + prime - 1) // prime * prime)\n",
        "            for multiple in range(start_multiple, high + 1, prime):\n",
        "                if multiple >= segment_low:\n",
        "                    segment_sieve[multiple - segment_low] = False\n",
        "        for i in range(high - segment_low + 1):\n",
        "            num = segment_low + i\n",
        "            if segment_sieve[i]:\n",
        "                if num == 2 and 2 in primes:\n",
        "                    continue\n",
        "                primes.append(num)\n",
        "    primes = sorted(list(set(primes)))\n",
        "    return primes\n",
        "start_range = 10\n",
        "end_range = 50\n",
        "prime_numbers = find_primes_segmented_sieve(start_range, end_range)\n",
        "print(f\"Prime numbers between {start_range} and {end_range}: {prime_numbers}\")"
      ],
      "metadata": {
        "colab": {
          "base_uri": "https://localhost:8080/"
        },
        "id": "KDv5lKhmjPZJ",
        "outputId": "4fbf8eef-0726-432d-9273-8715e720de6d"
      },
      "execution_count": null,
      "outputs": [
        {
          "output_type": "stream",
          "name": "stdout",
          "text": [
            "Prime numbers between 10 and 50: [11, 13, 17, 19, 23, 29, 31, 37, 41, 43, 47]\n"
          ]
        }
      ]
    },
    {
      "cell_type": "code",
      "source": [
        "def find_primes_sieve_of_atkin(a, b):\n",
        "    if b < 2:\n",
        "        return []\n",
        "    sieve = [False] * (b + 1)\n",
        "    limit = int(b**0.5) + 1\n",
        "    for x in range(1, limit):\n",
        "        for y in range(1, limit):\n",
        "            n = 4 * x**2 + y**2\n",
        "            if n <= b and (n % 12 == 1 or n % 12 == 5):\n",
        "                sieve[n] = not sieve[n]\n",
        "            n = 3 * x**2 + y**2\n",
        "            if n <= b and n % 12 == 7:\n",
        "                sieve[n] = not sieve[n]\n",
        "            n = 3 * x**2 - y**2\n",
        "            if x > y and n <= b and n % 12 == 11:\n",
        "                sieve[n] = not sieve[n]\n",
        "    for n in range(5, int(b**0.5) + 1):\n",
        "        if sieve[n]:\n",
        "            for k in range(n*n, b + 1, n*n):\n",
        "                sieve[k] = False\n",
        "    primes = [2, 3]\n",
        "    for n in range(5, b + 1):\n",
        "        if sieve[n]:\n",
        "            primes.append(n)\n",
        "    result_primes = [p for p in primes if p >= a]\n",
        "    return result_primes\n",
        "start_range = 1\n",
        "end_range = 50\n",
        "prime_numbers = find_primes_sieve_of_atkin(start_range, end_range)\n",
        "print(f\"Prime numbers between {start_range} and {end_range} (using Sieve of Atkin): {prime_numbers}\")"
      ],
      "metadata": {
        "colab": {
          "base_uri": "https://localhost:8080/"
        },
        "id": "IuchdWxTm_iD",
        "outputId": "900ce776-b2a3-47c2-abbd-38e2935e356b"
      },
      "execution_count": null,
      "outputs": [
        {
          "output_type": "stream",
          "name": "stdout",
          "text": [
            "Prime numbers between 1 and 50 (using Sieve of Atkin): [2, 3, 5, 7, 11, 13, 17, 19, 23, 29, 31, 37, 41, 43, 47]\n"
          ]
        }
      ]
    }
  ]
}